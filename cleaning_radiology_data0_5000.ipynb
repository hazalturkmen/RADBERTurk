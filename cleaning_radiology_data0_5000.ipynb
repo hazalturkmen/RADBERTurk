{
  "nbformat": 4,
  "nbformat_minor": 0,
  "metadata": {
    "colab": {
      "name": "cleaning radiology data0-5000.ipynb",
      "provenance": []
    },
    "kernelspec": {
      "name": "python3",
      "display_name": "Python 3"
    },
    "language_info": {
      "name": "python"
    }
  },
  "cells": [
    {
      "cell_type": "code",
      "metadata": {
        "colab": {
          "base_uri": "https://localhost:8080/"
        },
        "id": "oa2LHhdz_838",
        "outputId": "d4c0336a-1a69-4e20-f8aa-ebcd34719d72"
      },
      "source": [
        "from google.colab import drive\n",
        "drive.mount('/content/drive')"
      ],
      "execution_count": null,
      "outputs": [
        {
          "output_type": "stream",
          "text": [
            "Drive already mounted at /content/drive; to attempt to forcibly remount, call drive.mount(\"/content/drive\", force_remount=True).\n"
          ],
          "name": "stdout"
        }
      ]
    },
    {
      "cell_type": "code",
      "metadata": {
        "id": "s02Hnqj1AGjq"
      },
      "source": [
        "import pandas as pd\n",
        "from pandas import ExcelWriter\n",
        "from pandas import ExcelFile\n",
        "\n",
        "df = pd.read_excel('/content/drive/MyDrive/BrainCTLab 0-5000arasi_ Sonuca dizili- RadLex Kodlanmis- Ozbek_ ETIKETLENMIS- SON2.xlsx')\n"
      ],
      "execution_count": null,
      "outputs": []
    },
    {
      "cell_type": "code",
      "metadata": {
        "id": "C8H81TaEAmhh"
      },
      "source": [
        "df = pd.DataFrame(df, columns= ['Rapor(Sonuc)','İntrakranyal Patoloji VAR / YOK / Seri Dışı','RadLex Kod1','RadLex Kod2','RadLex Kod3'])"
      ],
      "execution_count": null,
      "outputs": []
    },
    {
      "cell_type": "code",
      "metadata": {
        "id": "kVTuIccuBZWV"
      },
      "source": [
        "df=df.drop_duplicates()"
      ],
      "execution_count": null,
      "outputs": []
    },
    {
      "cell_type": "code",
      "metadata": {
        "id": "M13AgIYqCYbw"
      },
      "source": [
        "df[\"Rapor(Sonuc)\"] = df[\"Rapor(Sonuc)\"].apply(lambda x: x.replace(x, x[x.find(\"[\"):x.find(\"]\")]))"
      ],
      "execution_count": null,
      "outputs": []
    },
    {
      "cell_type": "code",
      "metadata": {
        "id": "y5tAKfdb2-S4"
      },
      "source": [
        "df['Rapor(Sonuc)'] = df[\"Rapor(Sonuc)\"].str.replace(\"[\",\"\")\n",
        "df['Rapor(Sonuc)'] = df[\"Rapor(Sonuc)\"].str.replace(\"]\",\"\")\n",
        "df['Rapor(Sonuc)'] = df[\"Rapor(Sonuc)\"].str.replace(\"?\",\"\")\n"
      ],
      "execution_count": null,
      "outputs": []
    },
    {
      "cell_type": "code",
      "metadata": {
        "id": "hAh9KKuU3rtm"
      },
      "source": [
        "df = df.drop_duplicates()"
      ],
      "execution_count": null,
      "outputs": []
    },
    {
      "cell_type": "code",
      "metadata": {
        "id": "rLeN0IPr5xRf"
      },
      "source": [
        "radlex1 = df[\"RadLex Kod1\"].tolist()\n",
        "radlex2 = df[\"RadLex Kod2\"].tolist()\n",
        "radlex3 = df[\"RadLex Kod3\"].tolist()"
      ],
      "execution_count": null,
      "outputs": []
    },
    {
      "cell_type": "code",
      "metadata": {
        "id": "LdFdm9szkf0I"
      },
      "source": [
        "radlex = set(radlex1+radlex2+radlex3)"
      ],
      "execution_count": null,
      "outputs": []
    },
    {
      "cell_type": "code",
      "metadata": {
        "id": "cPTSddOecxbQ"
      },
      "source": [
        "import numpy as np"
      ],
      "execution_count": null,
      "outputs": []
    },
    {
      "cell_type": "code",
      "metadata": {
        "id": "Js6Jfri0cMuU"
      },
      "source": [
        "radlex.remove(0)"
      ],
      "execution_count": null,
      "outputs": []
    },
    {
      "cell_type": "code",
      "metadata": {
        "id": "mE4jA3XucWn4"
      },
      "source": [
        "radlex.remove(np.nan)"
      ],
      "execution_count": null,
      "outputs": []
    },
    {
      "cell_type": "code",
      "metadata": {
        "colab": {
          "base_uri": "https://localhost:8080/"
        },
        "id": "KVODRYSFcktj",
        "outputId": "57de3528-bc48-4ba5-a45f-a90254400836"
      },
      "source": [
        "radlex"
      ],
      "execution_count": null,
      "outputs": [
        {
          "output_type": "execute_result",
          "data": {
            "text/plain": [
              "{'RID11163',\n",
              " 'RID11296',\n",
              " 'RID11334',\n",
              " 'RID11423',\n",
              " 'RID13173',\n",
              " 'RID3321',\n",
              " 'RID35365',\n",
              " 'RID3663',\n",
              " 'RID36936',\n",
              " 'RID3827',\n",
              " 'RID3864',\n",
              " 'RID3874',\n",
              " 'RID3891',\n",
              " 'RID3899',\n",
              " 'RID39076',\n",
              " 'RID3936',\n",
              " 'RID4002',\n",
              " 'RID4088',\n",
              " 'RID4591',\n",
              " 'RID4650',\n",
              " 'RID4651',\n",
              " 'RID4652',\n",
              " 'RID4653',\n",
              " 'RID4654',\n",
              " 'RID4655',\n",
              " 'RID4700',\n",
              " 'RID4706',\n",
              " 'RID4708',\n",
              " 'RID4710',\n",
              " 'RID4800',\n",
              " 'RID4885',\n",
              " 'RID49953',\n",
              " 'RID5150',\n",
              " 'RID5178',\n",
              " 'RID5425',\n",
              " 'RID5631',\n",
              " 'RID6264',\n",
              " 'RID6527',\n",
              " 'RID7109',\n",
              " 'RID9470',\n",
              " 'RID9814'}"
            ]
          },
          "metadata": {
            "tags": []
          },
          "execution_count": 13
        }
      ]
    },
    {
      "cell_type": "code",
      "metadata": {
        "id": "O-VQFFmPeVsi"
      },
      "source": [
        "df_list = df[\"Rapor(Sonuc)\"].tolist()"
      ],
      "execution_count": null,
      "outputs": []
    },
    {
      "cell_type": "code",
      "metadata": {
        "id": "4kfBPzSOjLos"
      },
      "source": [
        "kodlar=['\\\\b KRANİAL BOYUN BT ANJİOGRAFİ TETKİKİ:\\\\b0','\\\\lang1055\\\\f1','\\\\lang1031\\\\f2','\\\\lang1055\\\\f2','\\\\lang1053\\\\f0'\n",
        ",'\\\\lang1053\\\\f1','d\\\\f0\\\\fs20','\\\\f2\\\\fs22','d\\\\lang1055\\\\f2\\\\fs22','\\\\lang2057\\\\f0\\\\fs18',' \\\\b KRANİAL BT ANJİOGRAFİ TETKİKİ\\\\b0'\n",
        ",'\\\\f3\\\\fs20','\\lang1055\\f3\\fs20','\\\\fs18','\\lang1053\\f3\\fs18','\\lang1031','d\\lang1055\\fs22',' \\\\f1\\\\fs22','\\lang1055','\\fs22','d\\qj\\lang1031','\\lang1055\\f0'\n",
        ",'\\b PRE-KONTRAST KRANİAL BT İNCELEMESİ\\b0','\\\\f3\\\\fs20','\\\\fs22','\\\\lang1053\\\\f2','\\\\lang1053\\\\f3','\\\\fs22','\\\\f0\\\\fs22','\\\\f1\\\\fs20','\\\\fs20','d\\\\qj \\\\b KRANİAL BT ANJİOGRAFİ TETKİKİ\\\\b0','\\\\b SERVİKAL VERTEBRA BT ve 3 BOYUTLU BT TETKİKİ\\\\b0'\n",
        ",'\\\\b KRANİAL  BOYUN BT ANJİOGRAFİ TETKİKİ\\\\b0','\\\\b KRANİAL BOYUN BT ANJİOGRAFİ TETKİKİ\\\\b0','\\\\b BOYUN KRANİAL BT ANJİOGRAFİ TETKİKİ\\\\b0 ','\\\\b PREKONTRAST KRANİAL BT İNCELEMESİ\\\\b0','\\\\b KRANİAL BOYUN  BT ANJİOGRAFİ TETKİKİ\\\\b0','\\\\f3','\\\\f2','\\\\b   SERVİKAL VERTEBRA BT ve 3 BOYUTLU BT TETKİKİ \\\\b0','\\\\lang1053\\\\f4 d\\\\tx360\\\\tx720\\\\tx1080\\\\tx1440\\\\tx1800\\\\tx2160\\\\tx2520\\\\tx2880\\\\tx3240\\\\tx3600\\\\tx3960\\\\tx4320\\\\tx4680\\\\tx5040\\\\tx5400\\\\tx5760\\\\tx6120\\\\tx6480\\\\tx6840\\\\tx7200\\\\tx7560\\\\tx7920\\\\tx8280\\\\tx8640\\\\tx9000\\\\tx9360\\\\tx9720\\\\tx10080\\\\tx10440\\\\tx10800\\\\tx11160\\\\tx11520']"
      ],
      "execution_count": null,
      "outputs": []
    },
    {
      "cell_type": "code",
      "metadata": {
        "id": "RnDinfeeNuMQ"
      },
      "source": [
        "import re\n",
        "for r in radlex:\n",
        "  for s in range(0,len(df_list)):\n",
        "    df_list[s] = df_list[s].replace(r,'')\n",
        "    df_list[s] = df_list[s].replace('()','')\n",
        "    df_list[s] = df_list[s].replace('(,)','')\n",
        "    df_list[s] = df_list[s].replace(r,'')\n",
        "    \n",
        "\n",
        "    for l in kodlar:\n",
        "       df_list[s] = df_list[s].replace(l,'')\n",
        "    \n",
        "    \n"
      ],
      "execution_count": null,
      "outputs": []
    },
    {
      "cell_type": "code",
      "metadata": {
        "id": "Gf44ApbTO3zL"
      },
      "source": [
        "df['Rapor(Sonuc)'] = df_list\n",
        "df['Rapor(Sonuc)'] = df['Rapor(Sonuc)'].str.replace('SERVİKAL VERTEBRA BT ve 3 BOYUTLU BT TETKİKİ','')\n",
        "df['Rapor(Sonuc)'] = df['Rapor(Sonuc)'].str.replace('SPİNAL BT ve 3 BOYUTLU BT İNCELEMESİ','')\n",
        "df['Rapor(Sonuc)'] = df['Rapor(Sonuc)'].str.replace('Spondilartroz servikal BT tetkiki','')\n",
        "df['Rapor(Sonuc)'] = df['Rapor(Sonuc)'].str.replace(' d ','')\n",
        "df['Rapor(Sonuc)'] = df['Rapor(Sonuc)'].str.replace(r'd\\\\qj\\\\b\\\\f1  \\\\b0',r'')\n",
        "df['Rapor(Sonuc)'] = df['Rapor(Sonuc)'].str.replace(r'd\\\\qj   \\\\b  \\\\b0',r'')\n",
        "df['Rapor(Sonuc)'] = df['Rapor(Sonuc)'].str.replace(r'\\\\b  \\\\b0',r'')\n",
        "df['Rapor(Sonuc)'] = df['Rapor(Sonuc)'].str.replace('SPİNAL BT ve 3 BOYUTLU BT TETKİKİ \\\\b0','')\n",
        "df['Rapor(Sonuc)'] = df['Rapor(Sonuc)'].str.replace('\\\\','')"
      ],
      "execution_count": null,
      "outputs": []
    },
    {
      "cell_type": "code",
      "metadata": {
        "id": "Q4yclJTO3aCk"
      },
      "source": [
        "mask = (df['Rapor(Sonuc)'].str.len() >= 100)\n",
        "df = df.loc[mask]\n",
        "df=df.drop_duplicates()"
      ],
      "execution_count": null,
      "outputs": []
    },
    {
      "cell_type": "code",
      "metadata": {
        "id": "Ap9nhb4l3zVV"
      },
      "source": [
        "df = df.sample(frac = 1)"
      ],
      "execution_count": null,
      "outputs": []
    },
    {
      "cell_type": "code",
      "metadata": {
        "id": "ShgMmlSIPm7Y"
      },
      "source": [
        "df.to_excel(\"v1_son.xlsx\")"
      ],
      "execution_count": null,
      "outputs": []
    },
    {
      "cell_type": "code",
      "metadata": {
        "id": "Sz_ZeZVjPuF2"
      },
      "source": [
        ""
      ],
      "execution_count": null,
      "outputs": []
    }
  ]
}