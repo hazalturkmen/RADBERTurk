{
  "nbformat": 4,
  "nbformat_minor": 0,
  "metadata": {
    "colab": {
      "name": "analyzing radiology data.ipynb",
      "provenance": []
    },
    "kernelspec": {
      "name": "python3",
      "display_name": "Python 3"
    },
    "language_info": {
      "name": "python"
    }
  },
  "cells": [
    {
      "cell_type": "code",
      "metadata": {
        "colab": {
          "base_uri": "https://localhost:8080/"
        },
        "id": "E4SUoKGXueHQ",
        "outputId": "3b762273-decd-4012-9e8f-090c772ec199"
      },
      "source": [
        "from google.colab import drive\n",
        "drive.mount('/content/drive')"
      ],
      "execution_count": null,
      "outputs": [
        {
          "output_type": "stream",
          "text": [
            "Drive already mounted at /content/drive; to attempt to forcibly remount, call drive.mount(\"/content/drive\", force_remount=True).\n"
          ],
          "name": "stdout"
        }
      ]
    },
    {
      "cell_type": "code",
      "metadata": {
        "id": "vrolvHXXurJv"
      },
      "source": [
        "import pandas as pd\n",
        "from pandas import ExcelWriter\n",
        "from pandas import ExcelFile\n",
        "\n",
        "df = pd.read_excel('/content/drive/MyDrive/v1_son(2).xlsx')\n"
      ],
      "execution_count": null,
      "outputs": []
    },
    {
      "cell_type": "code",
      "metadata": {
        "id": "2UZO8r43yGUC"
      },
      "source": [
        "df1 = pd.read_excel('/content/drive/MyDrive/v2_son(2).xlsx')\n",
        "\n",
        "\n",
        "df2 = pd.read_excel('/content/drive/MyDrive/v3_son(2).xlsx')\n"
      ],
      "execution_count": null,
      "outputs": []
    },
    {
      "cell_type": "code",
      "metadata": {
        "id": "IIfu1l4-yOdI"
      },
      "source": [
        "df1 = pd.DataFrame(df1, columns= ['Rapor(Sonuc)','Sonuc(Unique)'])\n",
        "df2 = pd.DataFrame(df2, columns= ['Rapor(Sonuc)','Sınıf(Unique)'])"
      ],
      "execution_count": null,
      "outputs": []
    },
    {
      "cell_type": "code",
      "metadata": {
        "id": "7dp1fWfpwL-i"
      },
      "source": [
        "df = pd.DataFrame(df, columns= ['Rapor(Sonuc)','İntrakranyal Patoloji VAR / YOK / Seri Dışı'])"
      ],
      "execution_count": null,
      "outputs": []
    },
    {
      "cell_type": "code",
      "metadata": {
        "colab": {
          "base_uri": "https://localhost:8080/",
          "height": 424
        },
        "id": "7J28y6pdlv2L",
        "outputId": "c274bbf2-9569-4e1e-d553-3bbfe20c42fc"
      },
      "source": [
        "df"
      ],
      "execution_count": null,
      "outputs": [
        {
          "output_type": "execute_result",
          "data": {
            "text/html": [
              "<div>\n",
              "<style scoped>\n",
              "    .dataframe tbody tr th:only-of-type {\n",
              "        vertical-align: middle;\n",
              "    }\n",
              "\n",
              "    .dataframe tbody tr th {\n",
              "        vertical-align: top;\n",
              "    }\n",
              "\n",
              "    .dataframe thead th {\n",
              "        text-align: right;\n",
              "    }\n",
              "</style>\n",
              "<table border=\"1\" class=\"dataframe\">\n",
              "  <thead>\n",
              "    <tr style=\"text-align: right;\">\n",
              "      <th></th>\n",
              "      <th>Rapor(Sonuc)</th>\n",
              "      <th>İntrakranyal Patoloji VAR / YOK / Seri Dışı</th>\n",
              "    </tr>\n",
              "  </thead>\n",
              "  <tbody>\n",
              "    <tr>\n",
              "      <th>0</th>\n",
              "      <td>Nazal kemikte ve raporda belirtilen maksillofa...</td>\n",
              "      <td>YOK</td>\n",
              "    </tr>\n",
              "    <tr>\n",
              "      <th>1</th>\n",
              "      <td>Sağ oksipitopariatal bölgede skalpte hemoraji ...</td>\n",
              "      <td>VAR</td>\n",
              "    </tr>\n",
              "    <tr>\n",
              "      <th>2</th>\n",
              "      <td>Kalvaryal kemik yapılarda dansite azalması dik...</td>\n",
              "      <td>VAR</td>\n",
              "    </tr>\n",
              "    <tr>\n",
              "      <th>3</th>\n",
              "      <td>Sağ serebellar hemisferde ENSEFALOMALAZİ  alan...</td>\n",
              "      <td>VAR</td>\n",
              "    </tr>\n",
              "    <tr>\n",
              "      <th>4</th>\n",
              "      <td>Sağ serebral hemisfer occipital lob düzeyinde ...</td>\n",
              "      <td>VAR</td>\n",
              "    </tr>\n",
              "    <tr>\n",
              "      <th>...</th>\n",
              "      <td>...</td>\n",
              "      <td>...</td>\n",
              "    </tr>\n",
              "    <tr>\n",
              "      <th>1810</th>\n",
              "      <td>Hastanın tetkiki arşivimizde bulunan 17.02.201...</td>\n",
              "      <td>VAR</td>\n",
              "    </tr>\n",
              "    <tr>\n",
              "      <th>1811</th>\n",
              "      <td>Değerlendirme klinik arşivimizde bulunan ve ha...</td>\n",
              "      <td>YOK</td>\n",
              "    </tr>\n",
              "    <tr>\n",
              "      <th>1812</th>\n",
              "      <td>enfarkt  sahası içerisindeki hemorajik ürünler...</td>\n",
              "      <td>VAR</td>\n",
              "    </tr>\n",
              "    <tr>\n",
              "      <th>1813</th>\n",
              "      <td>Sağ MCA sulama alanında - perisilviyan bölgede...</td>\n",
              "      <td>VAR</td>\n",
              "    </tr>\n",
              "    <tr>\n",
              "      <th>1814</th>\n",
              "      <td>Sağ serebral hemisfer fronto temporal lob giru...</td>\n",
              "      <td>VAR</td>\n",
              "    </tr>\n",
              "  </tbody>\n",
              "</table>\n",
              "<p>1815 rows × 2 columns</p>\n",
              "</div>"
            ],
            "text/plain": [
              "                                           Rapor(Sonuc) İntrakranyal Patoloji VAR / YOK / Seri Dışı\n",
              "0     Nazal kemikte ve raporda belirtilen maksillofa...                                         YOK\n",
              "1     Sağ oksipitopariatal bölgede skalpte hemoraji ...                                         VAR\n",
              "2     Kalvaryal kemik yapılarda dansite azalması dik...                                         VAR\n",
              "3     Sağ serebellar hemisferde ENSEFALOMALAZİ  alan...                                         VAR\n",
              "4     Sağ serebral hemisfer occipital lob düzeyinde ...                                         VAR\n",
              "...                                                 ...                                         ...\n",
              "1810  Hastanın tetkiki arşivimizde bulunan 17.02.201...                                         VAR\n",
              "1811  Değerlendirme klinik arşivimizde bulunan ve ha...                                         YOK\n",
              "1812  enfarkt  sahası içerisindeki hemorajik ürünler...                                         VAR\n",
              "1813  Sağ MCA sulama alanında - perisilviyan bölgede...                                         VAR\n",
              "1814  Sağ serebral hemisfer fronto temporal lob giru...                                         VAR\n",
              "\n",
              "[1815 rows x 2 columns]"
            ]
          },
          "metadata": {
            "tags": []
          },
          "execution_count": 68
        }
      ]
    },
    {
      "cell_type": "code",
      "metadata": {
        "id": "bc0MBnK8wgQu"
      },
      "source": [
        "df.columns = ['rapor','sonuc']\n",
        "df1.columns = ['rapor','sonuc']\n",
        "df2.columns = ['rapor','sonuc']"
      ],
      "execution_count": null,
      "outputs": []
    },
    {
      "cell_type": "code",
      "metadata": {
        "colab": {
          "base_uri": "https://localhost:8080/",
          "height": 424
        },
        "id": "Ml9Lkfc01ALi",
        "outputId": "d0db4ea8-0d48-42f6-ce60-f7da1e005df3"
      },
      "source": [
        "df"
      ],
      "execution_count": null,
      "outputs": [
        {
          "output_type": "execute_result",
          "data": {
            "text/html": [
              "<div>\n",
              "<style scoped>\n",
              "    .dataframe tbody tr th:only-of-type {\n",
              "        vertical-align: middle;\n",
              "    }\n",
              "\n",
              "    .dataframe tbody tr th {\n",
              "        vertical-align: top;\n",
              "    }\n",
              "\n",
              "    .dataframe thead th {\n",
              "        text-align: right;\n",
              "    }\n",
              "</style>\n",
              "<table border=\"1\" class=\"dataframe\">\n",
              "  <thead>\n",
              "    <tr style=\"text-align: right;\">\n",
              "      <th></th>\n",
              "      <th>rapor</th>\n",
              "      <th>sonuc</th>\n",
              "    </tr>\n",
              "  </thead>\n",
              "  <tbody>\n",
              "    <tr>\n",
              "      <th>0</th>\n",
              "      <td>Nazal kemikte ve raporda belirtilen maksillofa...</td>\n",
              "      <td>YOK</td>\n",
              "    </tr>\n",
              "    <tr>\n",
              "      <th>1</th>\n",
              "      <td>Sağ oksipitopariatal bölgede skalpte hemoraji ...</td>\n",
              "      <td>VAR</td>\n",
              "    </tr>\n",
              "    <tr>\n",
              "      <th>2</th>\n",
              "      <td>Kalvaryal kemik yapılarda dansite azalması dik...</td>\n",
              "      <td>VAR</td>\n",
              "    </tr>\n",
              "    <tr>\n",
              "      <th>3</th>\n",
              "      <td>Sağ serebellar hemisferde ENSEFALOMALAZİ  alan...</td>\n",
              "      <td>VAR</td>\n",
              "    </tr>\n",
              "    <tr>\n",
              "      <th>4</th>\n",
              "      <td>Sağ serebral hemisfer occipital lob düzeyinde ...</td>\n",
              "      <td>VAR</td>\n",
              "    </tr>\n",
              "    <tr>\n",
              "      <th>...</th>\n",
              "      <td>...</td>\n",
              "      <td>...</td>\n",
              "    </tr>\n",
              "    <tr>\n",
              "      <th>1810</th>\n",
              "      <td>Hastanın tetkiki arşivimizde bulunan 17.02.201...</td>\n",
              "      <td>VAR</td>\n",
              "    </tr>\n",
              "    <tr>\n",
              "      <th>1811</th>\n",
              "      <td>Değerlendirme klinik arşivimizde bulunan ve ha...</td>\n",
              "      <td>YOK</td>\n",
              "    </tr>\n",
              "    <tr>\n",
              "      <th>1812</th>\n",
              "      <td>enfarkt  sahası içerisindeki hemorajik ürünler...</td>\n",
              "      <td>VAR</td>\n",
              "    </tr>\n",
              "    <tr>\n",
              "      <th>1813</th>\n",
              "      <td>Sağ MCA sulama alanında - perisilviyan bölgede...</td>\n",
              "      <td>VAR</td>\n",
              "    </tr>\n",
              "    <tr>\n",
              "      <th>1814</th>\n",
              "      <td>Sağ serebral hemisfer fronto temporal lob giru...</td>\n",
              "      <td>VAR</td>\n",
              "    </tr>\n",
              "  </tbody>\n",
              "</table>\n",
              "<p>1815 rows × 2 columns</p>\n",
              "</div>"
            ],
            "text/plain": [
              "                                                  rapor sonuc\n",
              "0     Nazal kemikte ve raporda belirtilen maksillofa...   YOK\n",
              "1     Sağ oksipitopariatal bölgede skalpte hemoraji ...   VAR\n",
              "2     Kalvaryal kemik yapılarda dansite azalması dik...   VAR\n",
              "3     Sağ serebellar hemisferde ENSEFALOMALAZİ  alan...   VAR\n",
              "4     Sağ serebral hemisfer occipital lob düzeyinde ...   VAR\n",
              "...                                                 ...   ...\n",
              "1810  Hastanın tetkiki arşivimizde bulunan 17.02.201...   VAR\n",
              "1811  Değerlendirme klinik arşivimizde bulunan ve ha...   YOK\n",
              "1812  enfarkt  sahası içerisindeki hemorajik ürünler...   VAR\n",
              "1813  Sağ MCA sulama alanında - perisilviyan bölgede...   VAR\n",
              "1814  Sağ serebral hemisfer fronto temporal lob giru...   VAR\n",
              "\n",
              "[1815 rows x 2 columns]"
            ]
          },
          "metadata": {
            "tags": []
          },
          "execution_count": 6
        }
      ]
    },
    {
      "cell_type": "code",
      "metadata": {
        "id": "Fea3-9juwj_3"
      },
      "source": [
        "df['#len'] = df[\"rapor\"].str.len()\n",
        "df1['#len'] = df1[\"rapor\"].str.len()\n",
        "df2['#len'] = df2[\"rapor\"].str.len()"
      ],
      "execution_count": null,
      "outputs": []
    },
    {
      "cell_type": "code",
      "metadata": {
        "colab": {
          "base_uri": "https://localhost:8080/"
        },
        "id": "bKlV9BD8x6Gm",
        "outputId": "77e48bc0-7958-4743-fcc6-5205fbd7a155"
      },
      "source": [
        "\n",
        "df.loc[df['#len'].idxmax()]"
      ],
      "execution_count": null,
      "outputs": [
        {
          "output_type": "execute_result",
          "data": {
            "text/plain": [
              "rapor    Kalvarial kemik yapıların incelenmesinde sol t...\n",
              "sonuc                                                  VAR\n",
              "#len                                                  1233\n",
              "Name: 1369, dtype: object"
            ]
          },
          "metadata": {
            "tags": []
          },
          "execution_count": 8
        }
      ]
    },
    {
      "cell_type": "code",
      "metadata": {
        "colab": {
          "base_uri": "https://localhost:8080/"
        },
        "id": "EjGxM--6x8uN",
        "outputId": "e0b7111c-e939-4b3d-bab2-fdb6e3488574"
      },
      "source": [
        "df1.loc[df1['#len'].idxmax()]"
      ],
      "execution_count": null,
      "outputs": [
        {
          "output_type": "execute_result",
          "data": {
            "text/plain": [
              "rapor      Derin beyaz cevher düzeyinde milimetrik Çapt...\n",
              "sonuc                                                  VAR\n",
              "#len                                                  3008\n",
              "Name: 14944, dtype: object"
            ]
          },
          "metadata": {
            "tags": []
          },
          "execution_count": 9
        }
      ]
    },
    {
      "cell_type": "code",
      "metadata": {
        "colab": {
          "base_uri": "https://localhost:8080/"
        },
        "id": "72rOWRadz4H0",
        "outputId": "25ce9627-026a-4192-8628-9e8122683f1f"
      },
      "source": [
        "df2.loc[df2['#len'].idxmax()]"
      ],
      "execution_count": null,
      "outputs": [
        {
          "output_type": "execute_result",
          "data": {
            "text/plain": [
              "rapor    Bilateral lentiform nukleuslar düzeyinde LAKÜN...\n",
              "sonuc                                                  VAR\n",
              "#len                                                  1284\n",
              "Name: 1876, dtype: object"
            ]
          },
          "metadata": {
            "tags": []
          },
          "execution_count": 10
        }
      ]
    },
    {
      "cell_type": "code",
      "metadata": {
        "colab": {
          "base_uri": "https://localhost:8080/"
        },
        "id": "G-mFr247coFR",
        "outputId": "e9a3e56c-99f1-4451-b11a-915db09a3e26"
      },
      "source": [
        "print(df.groupby('sonuc').count(), \"\\n\\n\")\n",
        "print(df1.groupby('sonuc').count(), \"\\n\\n\")\n",
        "print(df2.groupby('sonuc').count(), \"\\n\\n\")"
      ],
      "execution_count": null,
      "outputs": [
        {
          "output_type": "stream",
          "text": [
            "           rapor  #len\n",
            "sonuc                 \n",
            "SERI DISI    195   195\n",
            "VAR          903   903\n",
            "YOK          715   715 \n",
            "\n",
            "\n",
            "           rapor  #len\n",
            "sonuc                 \n",
            "SERI DISI   2261  2261\n",
            "VAR         8429  8429\n",
            "YOK         6279  6279\n",
            "yok            1     1 \n",
            "\n",
            "\n",
            "           rapor  #len\n",
            "sonuc                 \n",
            "SERI DISI    261   261\n",
            "VAR         1371  1371\n",
            "YOK          531   531 \n",
            "\n",
            "\n"
          ],
          "name": "stdout"
        }
      ]
    },
    {
      "cell_type": "code",
      "metadata": {
        "colab": {
          "base_uri": "https://localhost:8080/"
        },
        "id": "_nVDRW4wpSeG",
        "outputId": "11521590-3ead-465a-8f56-1352009102f1"
      },
      "source": [
        "mask = (df['rapor'].str.len() >= 300)\n",
        "\n",
        "print(df.loc[mask].groupby('sonuc').count(), \"\\n\\n\")\n",
        "df_300=df.loc[mask]"
      ],
      "execution_count": null,
      "outputs": [
        {
          "output_type": "stream",
          "text": [
            "           rapor  #len\n",
            "sonuc                 \n",
            "SERI DISI     26    26\n",
            "VAR          207   207\n",
            "YOK           63    63 \n",
            "\n",
            "\n"
          ],
          "name": "stdout"
        }
      ]
    },
    {
      "cell_type": "code",
      "metadata": {
        "colab": {
          "base_uri": "https://localhost:8080/"
        },
        "id": "Kou5qY9cz_bl",
        "outputId": "9a64df0b-04a4-46ad-ff6b-507ab78607a7"
      },
      "source": [
        "mask1 = (df1['rapor'].str.len() >= 300)\n",
        "\n",
        "print(df1.loc[mask1].groupby('sonuc').count(), \"\\n\\n\")\n",
        "df1_300=df1.loc[mask1]"
      ],
      "execution_count": null,
      "outputs": [
        {
          "output_type": "stream",
          "text": [
            "           rapor  #len\n",
            "sonuc                 \n",
            "SERI DISI    756   756\n",
            "VAR         2659  2659\n",
            "YOK         1291  1291\n",
            "yok            1     1 \n",
            "\n",
            "\n"
          ],
          "name": "stdout"
        }
      ]
    },
    {
      "cell_type": "code",
      "metadata": {
        "colab": {
          "base_uri": "https://localhost:8080/"
        },
        "id": "wwfSJtQi0ZYO",
        "outputId": "8a3b2ce8-5f7b-4a3d-a3c5-f5f2f81945e6"
      },
      "source": [
        "mask = (df2['rapor'].str.len() >= 300)\n",
        "print(df2.loc[mask].groupby('sonuc').count(), \"\\n\\n\")\n",
        "df2_300=df2.loc[mask]\n"
      ],
      "execution_count": null,
      "outputs": [
        {
          "output_type": "stream",
          "text": [
            "           rapor  #len\n",
            "sonuc                 \n",
            "SERI DISI     62    62\n",
            "VAR          397   397\n",
            "YOK           58    58 \n",
            "\n",
            "\n"
          ],
          "name": "stdout"
        }
      ]
    },
    {
      "cell_type": "code",
      "metadata": {
        "colab": {
          "base_uri": "https://localhost:8080/"
        },
        "id": "5W9PtzFfcEYP",
        "outputId": "b843cadb-d3b3-4b3b-f53c-ba715ed870a6"
      },
      "source": [
        " print(df2.loc[mask].groupby('sonuc').count(), \"\\n\\n\")"
      ],
      "execution_count": null,
      "outputs": [
        {
          "output_type": "stream",
          "text": [
            "           rapor  #len\n",
            "sonuc                 \n",
            "SERI DISI     62    62\n",
            "VAR          397   397\n",
            "YOK           58    58 \n",
            "\n",
            "\n"
          ],
          "name": "stdout"
        }
      ]
    },
    {
      "cell_type": "code",
      "metadata": {
        "id": "Te2xxNXb2Sqg"
      },
      "source": [
        "d_son = pd.concat([df_300,df1_300,df2_300], axis=0)"
      ],
      "execution_count": null,
      "outputs": []
    },
    {
      "cell_type": "code",
      "metadata": {
        "colab": {
          "base_uri": "https://localhost:8080/",
          "height": 424
        },
        "id": "57BPz8D22W_T",
        "outputId": "bed02897-a562-4894-bfe9-08619dc815aa"
      },
      "source": [
        "d_son"
      ],
      "execution_count": null,
      "outputs": [
        {
          "output_type": "execute_result",
          "data": {
            "text/html": [
              "<div>\n",
              "<style scoped>\n",
              "    .dataframe tbody tr th:only-of-type {\n",
              "        vertical-align: middle;\n",
              "    }\n",
              "\n",
              "    .dataframe tbody tr th {\n",
              "        vertical-align: top;\n",
              "    }\n",
              "\n",
              "    .dataframe thead th {\n",
              "        text-align: right;\n",
              "    }\n",
              "</style>\n",
              "<table border=\"1\" class=\"dataframe\">\n",
              "  <thead>\n",
              "    <tr style=\"text-align: right;\">\n",
              "      <th></th>\n",
              "      <th>rapor</th>\n",
              "      <th>sonuc</th>\n",
              "      <th>#len</th>\n",
              "    </tr>\n",
              "  </thead>\n",
              "  <tbody>\n",
              "    <tr>\n",
              "      <th>0</th>\n",
              "      <td>Bilateral lentiform nükleuslar düzeyinde lakün...</td>\n",
              "      <td>VAR</td>\n",
              "      <td>304</td>\n",
              "    </tr>\n",
              "    <tr>\n",
              "      <th>10</th>\n",
              "      <td>Bilateral temporal kemiklerde transvers fraktü...</td>\n",
              "      <td>YOK</td>\n",
              "      <td>558</td>\n",
              "    </tr>\n",
              "    <tr>\n",
              "      <th>12</th>\n",
              "      <td>Bilateral lentiform nukleuslar lokalizasyonund...</td>\n",
              "      <td>VAR</td>\n",
              "      <td>304</td>\n",
              "    </tr>\n",
              "    <tr>\n",
              "      <th>24</th>\n",
              "      <td>Baş ağrısı ve çift görme şikayetleri ile tetki...</td>\n",
              "      <td>VAR</td>\n",
              "      <td>641</td>\n",
              "    </tr>\n",
              "    <tr>\n",
              "      <th>26</th>\n",
              "      <td>Her iki frontal lob anteriorda kistik ENSEFALO...</td>\n",
              "      <td>VAR</td>\n",
              "      <td>307</td>\n",
              "    </tr>\n",
              "    <tr>\n",
              "      <th>...</th>\n",
              "      <td>...</td>\n",
              "      <td>...</td>\n",
              "      <td>...</td>\n",
              "    </tr>\n",
              "    <tr>\n",
              "      <th>2153</th>\n",
              "      <td>Tetkik arşivimizde mevcut aynı tarihli 15.21 s...</td>\n",
              "      <td>VAR</td>\n",
              "      <td>352</td>\n",
              "    </tr>\n",
              "    <tr>\n",
              "      <th>2154</th>\n",
              "      <td>Supraventriküler düzeyde sol serebral hemisfer...</td>\n",
              "      <td>VAR</td>\n",
              "      <td>420</td>\n",
              "    </tr>\n",
              "    <tr>\n",
              "      <th>2155</th>\n",
              "      <td>Tetkik arşivimizde bulunan 21.03.2017 tarihli ...</td>\n",
              "      <td>VAR</td>\n",
              "      <td>482</td>\n",
              "    </tr>\n",
              "    <tr>\n",
              "      <th>2157</th>\n",
              "      <td>Tetkik olgunun klinik arşivimizdeki aynı tarih...</td>\n",
              "      <td>YOK</td>\n",
              "      <td>502</td>\n",
              "    </tr>\n",
              "    <tr>\n",
              "      <th>2159</th>\n",
              "      <td>Serebral atrofi.Servikomedullar bileşke düzeyi...</td>\n",
              "      <td>VAR</td>\n",
              "      <td>385</td>\n",
              "    </tr>\n",
              "  </tbody>\n",
              "</table>\n",
              "<p>5657 rows × 3 columns</p>\n",
              "</div>"
            ],
            "text/plain": [
              "                                                  rapor sonuc  #len\n",
              "0     Bilateral lentiform nükleuslar düzeyinde lakün...   VAR   304\n",
              "10    Bilateral temporal kemiklerde transvers fraktü...   YOK   558\n",
              "12    Bilateral lentiform nukleuslar lokalizasyonund...   VAR   304\n",
              "24    Baş ağrısı ve çift görme şikayetleri ile tetki...   VAR   641\n",
              "26    Her iki frontal lob anteriorda kistik ENSEFALO...   VAR   307\n",
              "...                                                 ...   ...   ...\n",
              "2153  Tetkik arşivimizde mevcut aynı tarihli 15.21 s...   VAR   352\n",
              "2154  Supraventriküler düzeyde sol serebral hemisfer...   VAR   420\n",
              "2155  Tetkik arşivimizde bulunan 21.03.2017 tarihli ...   VAR   482\n",
              "2157  Tetkik olgunun klinik arşivimizdeki aynı tarih...   YOK   502\n",
              "2159  Serebral atrofi.Servikomedullar bileşke düzeyi...   VAR   385\n",
              "\n",
              "[5657 rows x 3 columns]"
            ]
          },
          "metadata": {
            "tags": []
          },
          "execution_count": 17
        }
      ]
    },
    {
      "cell_type": "code",
      "metadata": {
        "id": "xUFovVaj4h99"
      },
      "source": [
        "d_son = d_son.sample(frac = 1)"
      ],
      "execution_count": null,
      "outputs": []
    },
    {
      "cell_type": "code",
      "metadata": {
        "colab": {
          "base_uri": "https://localhost:8080/",
          "height": 424
        },
        "id": "auJrD_I1G-aQ",
        "outputId": "28d78be0-05a3-4c90-ffa0-24a24ff2d083"
      },
      "source": [
        "d_son"
      ],
      "execution_count": null,
      "outputs": [
        {
          "output_type": "execute_result",
          "data": {
            "text/html": [
              "<div>\n",
              "<style scoped>\n",
              "    .dataframe tbody tr th:only-of-type {\n",
              "        vertical-align: middle;\n",
              "    }\n",
              "\n",
              "    .dataframe tbody tr th {\n",
              "        vertical-align: top;\n",
              "    }\n",
              "\n",
              "    .dataframe thead th {\n",
              "        text-align: right;\n",
              "    }\n",
              "</style>\n",
              "<table border=\"1\" class=\"dataframe\">\n",
              "  <thead>\n",
              "    <tr style=\"text-align: right;\">\n",
              "      <th></th>\n",
              "      <th>rapor</th>\n",
              "      <th>sonuc</th>\n",
              "      <th>#len</th>\n",
              "    </tr>\n",
              "  </thead>\n",
              "  <tbody>\n",
              "    <tr>\n",
              "      <th>10871</th>\n",
              "      <td>dqjlang1031  lang1055f0 Frontal sinüs sol yar...</td>\n",
              "      <td>YOK</td>\n",
              "      <td>378</td>\n",
              "    </tr>\n",
              "    <tr>\n",
              "      <th>10699</th>\n",
              "      <td>Her iki serebral hemisferde subdural hemora...</td>\n",
              "      <td>VAR</td>\n",
              "      <td>320</td>\n",
              "    </tr>\n",
              "    <tr>\n",
              "      <th>1283</th>\n",
              "      <td>Sağ frontal bölgede skalpte hemaroji lehine de...</td>\n",
              "      <td>YOK</td>\n",
              "      <td>421</td>\n",
              "    </tr>\n",
              "    <tr>\n",
              "      <th>3802</th>\n",
              "      <td>Parankimde akut iskemi bulgusu ayırt edilemey...</td>\n",
              "      <td>SERI DISI</td>\n",
              "      <td>325</td>\n",
              "    </tr>\n",
              "    <tr>\n",
              "      <th>3570</th>\n",
              "      <td>Sağ MCA sulama alanında öncelikle eski infar...</td>\n",
              "      <td>VAR</td>\n",
              "      <td>346</td>\n",
              "    </tr>\n",
              "    <tr>\n",
              "      <th>...</th>\n",
              "      <td>...</td>\n",
              "      <td>...</td>\n",
              "      <td>...</td>\n",
              "    </tr>\n",
              "    <tr>\n",
              "      <th>16744</th>\n",
              "      <td>Sol frontal lobda sol bazal ganglion düzeyind...</td>\n",
              "      <td>VAR</td>\n",
              "      <td>311</td>\n",
              "    </tr>\n",
              "    <tr>\n",
              "      <th>8847</th>\n",
              "      <td>Pons düzeyinde yaklaşık 7.5 mm boyutunda kals...</td>\n",
              "      <td>VAR</td>\n",
              "      <td>355</td>\n",
              "    </tr>\n",
              "    <tr>\n",
              "      <th>891</th>\n",
              "      <td>her iki nazal kemikte ve nazal septum distalin...</td>\n",
              "      <td>YOK</td>\n",
              "      <td>390</td>\n",
              "    </tr>\n",
              "    <tr>\n",
              "      <th>14731</th>\n",
              "      <td>Tetkik olgunun klinik arşivimizdeki 05.11.201...</td>\n",
              "      <td>SERI DISI</td>\n",
              "      <td>767</td>\n",
              "    </tr>\n",
              "    <tr>\n",
              "      <th>1929</th>\n",
              "      <td>Yüz kemiklerinde multıple fraktür izlendi. Sol...</td>\n",
              "      <td>YOK</td>\n",
              "      <td>800</td>\n",
              "    </tr>\n",
              "  </tbody>\n",
              "</table>\n",
              "<p>5657 rows × 3 columns</p>\n",
              "</div>"
            ],
            "text/plain": [
              "                                                   rapor      sonuc  #len\n",
              "10871   dqjlang1031  lang1055f0 Frontal sinüs sol yar...        YOK   378\n",
              "10699     Her iki serebral hemisferde subdural hemora...        VAR   320\n",
              "1283   Sağ frontal bölgede skalpte hemaroji lehine de...        YOK   421\n",
              "3802    Parankimde akut iskemi bulgusu ayırt edilemey...  SERI DISI   325\n",
              "3570     Sağ MCA sulama alanında öncelikle eski infar...        VAR   346\n",
              "...                                                  ...        ...   ...\n",
              "16744   Sol frontal lobda sol bazal ganglion düzeyind...        VAR   311\n",
              "8847    Pons düzeyinde yaklaşık 7.5 mm boyutunda kals...        VAR   355\n",
              "891    her iki nazal kemikte ve nazal septum distalin...        YOK   390\n",
              "14731   Tetkik olgunun klinik arşivimizdeki 05.11.201...  SERI DISI   767\n",
              "1929   Yüz kemiklerinde multıple fraktür izlendi. Sol...        YOK   800\n",
              "\n",
              "[5657 rows x 3 columns]"
            ]
          },
          "metadata": {
            "tags": []
          },
          "execution_count": 19
        }
      ]
    },
    {
      "cell_type": "code",
      "metadata": {
        "id": "3ql6DnrIHCqU"
      },
      "source": [
        "d_son.to_excel(\"labeled_data300_v4.xlsx\")"
      ],
      "execution_count": null,
      "outputs": []
    },
    {
      "cell_type": "code",
      "metadata": {
        "id": "9lO39JOeHQlA"
      },
      "source": [
        ""
      ],
      "execution_count": null,
      "outputs": []
    },
    {
      "cell_type": "code",
      "metadata": {
        "colab": {
          "base_uri": "https://localhost:8080/",
          "height": 122
        },
        "id": "GuGyrI3RP5M1",
        "outputId": "bdc9a893-f526-4f83-e6c5-c35cd2442f31"
      },
      "source": [
        "repeat_pattern.sub(r'\\1',s)"
      ],
      "execution_count": null,
      "outputs": [
        {
          "output_type": "execute_result",
          "data": {
            "application/vnd.google.colaboratory.intrinsic+json": {
              "type": "string"
            },
            "text/plain": [
              "\"   Sol frontal kemikte kraniotomi defekti izlenmektedir. Kraniotomi defektinin komşuluğunda durada kalınlaşma izlenmektedir. Dura ile kraniotomi defekti arasında 8 mm kalınlığa ulaşan effüzyona ait görünüm izlenmektedir. Sol frontal lobta ve sol temporal lob anteriorunda post operatif değişiklikler, ENSEFALOMALAZİ sahaları ve gliozis ile uyumlu olduğu düşünülen hipodens alanlar izlenmektedir. Sol lateral ventrikül ENSEFALOMALAZİ sahas'f?dna doğru Çekinti göstermektedir. 3. ventrikül en geniş yerinde 13 mm olarak ölÇülmüştür.  Sol parietal bölgede skalp düzeyinde 2 cm boyutunda hiperdens lezyon izlenmektedir. Olgunun fizik muayene ile değerlendirilmesi önerilir. İntra kranial kanama saptanmadı.  \""
            ]
          },
          "metadata": {
            "tags": []
          },
          "execution_count": 49
        }
      ]
    },
    {
      "cell_type": "code",
      "metadata": {
        "id": "ul_FwKwdQ72J"
      },
      "source": [
        "import pandas as pd\n",
        "from pandas import ExcelWriter\n",
        "from pandas import ExcelFile\n",
        "\n",
        "df = pd.read_excel('/content/drive/MyDrive/train_labeled_data300_v4.xlsx')"
      ],
      "execution_count": null,
      "outputs": []
    },
    {
      "cell_type": "code",
      "metadata": {
        "id": "bEMJETTIv9eF"
      },
      "source": [
        "from sklearn.model_selection import train_test_split\n",
        "\n",
        "train, valid = train_test_split(df, test_size=0.2)"
      ],
      "execution_count": null,
      "outputs": []
    },
    {
      "cell_type": "code",
      "metadata": {
        "id": "NpZQIwDewCHl"
      },
      "source": [
        "train.to_excel(\"train_labeled_data300_v4.xlsx\")\n",
        "valid.to_excel(\"valid_labeled_data300_v4.xlsx\")"
      ],
      "execution_count": null,
      "outputs": []
    },
    {
      "cell_type": "code",
      "metadata": {
        "id": "ikxzUe3dwOUd"
      },
      "source": [
        ""
      ],
      "execution_count": null,
      "outputs": []
    }
  ]
}