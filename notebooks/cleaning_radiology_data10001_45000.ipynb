{
  "nbformat": 4,
  "nbformat_minor": 0,
  "metadata": {
    "colab": {
      "name": "cleaning radiology data10001_45000.ipynb",
      "provenance": []
    },
    "kernelspec": {
      "name": "python3",
      "display_name": "Python 3"
    },
    "language_info": {
      "name": "python"
    }
  },
  "cells": [
    {
      "cell_type": "code",
      "metadata": {
        "colab": {
          "base_uri": "https://localhost:8080/"
        },
        "id": "HOWqWoDKO3t9",
        "outputId": "1ffd55f9-c925-4c32-a5a5-75ead4023e6f"
      },
      "source": [
        "from google.colab import drive\n",
        "drive.mount('/content/drive')"
      ],
      "execution_count": null,
      "outputs": [
        {
          "output_type": "stream",
          "text": [
            "Drive already mounted at /content/drive; to attempt to forcibly remount, call drive.mount(\"/content/drive\", force_remount=True).\n"
          ],
          "name": "stdout"
        }
      ]
    },
    {
      "cell_type": "code",
      "metadata": {
        "id": "DJDS4n56Q__F"
      },
      "source": [
        "import pandas as pd\n",
        "from pandas import ExcelWriter\n",
        "from pandas import ExcelFile\n",
        "\n",
        "df = pd.read_excel('/content/drive/MyDrive/Merged_10001_45000- BKatuk_Ozbek 20190915.xlsx')\n"
      ],
      "execution_count": null,
      "outputs": []
    },
    {
      "cell_type": "code",
      "metadata": {
        "id": "c_2v4mW1RXEl"
      },
      "source": [
        "df = pd.DataFrame(df, columns= ['Rapor(Sonuc)','Sonuc(Unique)'])"
      ],
      "execution_count": null,
      "outputs": []
    },
    {
      "cell_type": "code",
      "metadata": {
        "colab": {
          "base_uri": "https://localhost:8080/",
          "height": 424
        },
        "id": "HOL_u_DgqE_n",
        "outputId": "89846a22-3168-4840-cf9e-770b1998392f"
      },
      "source": [
        "df"
      ],
      "execution_count": null,
      "outputs": [
        {
          "output_type": "execute_result",
          "data": {
            "text/html": [
              "<div>\n",
              "<style scoped>\n",
              "    .dataframe tbody tr th:only-of-type {\n",
              "        vertical-align: middle;\n",
              "    }\n",
              "\n",
              "    .dataframe tbody tr th {\n",
              "        vertical-align: top;\n",
              "    }\n",
              "\n",
              "    .dataframe thead th {\n",
              "        text-align: right;\n",
              "    }\n",
              "</style>\n",
              "<table border=\"1\" class=\"dataframe\">\n",
              "  <thead>\n",
              "    <tr style=\"text-align: right;\">\n",
              "      <th></th>\n",
              "      <th>Rapor(Sonuc)</th>\n",
              "      <th>Sonuc(Unique)</th>\n",
              "    </tr>\n",
              "  </thead>\n",
              "  <tbody>\n",
              "    <tr>\n",
              "      <th>0</th>\n",
              "      <td>SONUç \\f3\\fs20 [Takipte benzer sulkal SAK bulg...</td>\n",
              "      <td>VAR</td>\n",
              "    </tr>\n",
              "    <tr>\n",
              "      <th>1</th>\n",
              "      <td>SONUç \\lang1053\\f0\\fs18 [  \\lang1055\\f2 Akuadu...</td>\n",
              "      <td>SERI DISI</td>\n",
              "    </tr>\n",
              "    <tr>\n",
              "      <th>2</th>\n",
              "      <td>SONUç \\lang1053\\f0\\fs18 [  \\lang1055\\f3\\fs20 S...</td>\n",
              "      <td>VAR</td>\n",
              "    </tr>\n",
              "    <tr>\n",
              "      <th>3</th>\n",
              "      <td>SONUç \\lang1053\\f0\\fs18 [ \\lang1055\\f3 Sol tem...</td>\n",
              "      <td>SERI DISI</td>\n",
              "    </tr>\n",
              "    <tr>\n",
              "      <th>4</th>\n",
              "      <td>SONUç \\lang1053\\f0\\fs18 \\cf1\\lang1055\\f2 [VP Ş...</td>\n",
              "      <td>SERI DISI</td>\n",
              "    </tr>\n",
              "    <tr>\n",
              "      <th>...</th>\n",
              "      <td>...</td>\n",
              "      <td>...</td>\n",
              "    </tr>\n",
              "    <tr>\n",
              "      <th>35299</th>\n",
              "      <td>SONUÇ:Normal sınırlarda Pre-kontrast Kranial B...</td>\n",
              "      <td>YOK</td>\n",
              "    </tr>\n",
              "    <tr>\n",
              "      <th>35300</th>\n",
              "      <td>SONUÇ:Normal sınırlarda Pre-kontrast Kranial B...</td>\n",
              "      <td>YOK</td>\n",
              "    </tr>\n",
              "    <tr>\n",
              "      <th>35301</th>\n",
              "      <td>SONUç:Normal sınırlarda Pre-kontrast Kranial B...</td>\n",
              "      <td>YOK</td>\n",
              "    </tr>\n",
              "    <tr>\n",
              "      <th>35302</th>\n",
              "      <td>SONUÇ:Normal sınırlarda Pre-kontrast Kranial B...</td>\n",
              "      <td>YOK</td>\n",
              "    </tr>\n",
              "    <tr>\n",
              "      <th>35303</th>\n",
              "      <td>SONUÇ:Normal sınırlarda Pre-kontrast Kranial B...</td>\n",
              "      <td>YOK</td>\n",
              "    </tr>\n",
              "  </tbody>\n",
              "</table>\n",
              "<p>35304 rows × 2 columns</p>\n",
              "</div>"
            ],
            "text/plain": [
              "                                            Rapor(Sonuc) Sonuc(Unique)\n",
              "0      SONUç \\f3\\fs20 [Takipte benzer sulkal SAK bulg...           VAR\n",
              "1      SONUç \\lang1053\\f0\\fs18 [  \\lang1055\\f2 Akuadu...     SERI DISI\n",
              "2      SONUç \\lang1053\\f0\\fs18 [  \\lang1055\\f3\\fs20 S...           VAR\n",
              "3      SONUç \\lang1053\\f0\\fs18 [ \\lang1055\\f3 Sol tem...     SERI DISI\n",
              "4      SONUç \\lang1053\\f0\\fs18 \\cf1\\lang1055\\f2 [VP Ş...     SERI DISI\n",
              "...                                                  ...           ...\n",
              "35299  SONUÇ:Normal sınırlarda Pre-kontrast Kranial B...           YOK\n",
              "35300  SONUÇ:Normal sınırlarda Pre-kontrast Kranial B...           YOK\n",
              "35301  SONUç:Normal sınırlarda Pre-kontrast Kranial B...           YOK\n",
              "35302  SONUÇ:Normal sınırlarda Pre-kontrast Kranial B...           YOK\n",
              "35303  SONUÇ:Normal sınırlarda Pre-kontrast Kranial B...           YOK\n",
              "\n",
              "[35304 rows x 2 columns]"
            ]
          },
          "metadata": {
            "tags": []
          },
          "execution_count": 4
        }
      ]
    },
    {
      "cell_type": "code",
      "metadata": {
        "id": "UxdM2qF8RpgK"
      },
      "source": [
        "df=df.drop_duplicates()"
      ],
      "execution_count": null,
      "outputs": []
    },
    {
      "cell_type": "code",
      "metadata": {
        "id": "-H5sF5wwhQtK"
      },
      "source": [
        "\n",
        "df['Rapor(Sonuc)'] = df['Rapor(Sonuc)'].str[5:]\n",
        "\n"
      ],
      "execution_count": null,
      "outputs": []
    },
    {
      "cell_type": "code",
      "metadata": {
        "id": "-sxtR2-R_LKO"
      },
      "source": [
        "kodlar=['\\\\b KRANİAL BOYUN BT ANJİOGRAFİ TETKİKİ:\\\\b0','\\\\lang1055\\\\f1','\\\\lang1031\\\\f2','\\\\lang1055\\\\f2','\\\\lang1053\\\\f0'\n",
        ",'\\\\lang1053\\\\f1','d\\\\f0\\\\fs20','\\\\f2\\\\fs22','d\\\\lang1055\\\\f2\\\\fs22','\\\\lang2057\\\\f0\\\\fs18',' \\\\b KRANİAL BT ANJİOGRAFİ TETKİKİ\\\\b0'\n",
        ",'\\\\f3\\\\fs20','\\lang1055\\f3\\fs20','\\\\fs18','\\lang1053\\f3\\fs18','\\lang1031','d\\lang1055\\fs22',' \\\\f1\\\\fs22','\\lang1055','\\fs22','d\\qj\\lang1031','\\lang1055\\f0'\n",
        ",'\\b PRE-KONTRAST KRANİAL BT İNCELEMESİ\\b0','\\\\f3\\\\fs20','\\\\fs22','\\\\lang1053\\\\f2','\\\\lang1053\\\\f3','\\\\fs22','\\\\f0\\\\fs22','\\\\f1\\\\fs20','\\\\fs20','d\\\\qj \\\\b KRANİAL BT ANJİOGRAFİ TETKİKİ\\\\b0','\\\\b SERVİKAL VERTEBRA BT ve 3 BOYUTLU BT TETKİKİ\\\\b0'\n",
        ",'\\\\b KRANİAL  BOYUN BT ANJİOGRAFİ TETKİKİ\\\\b0','\\\\b KRANİAL BOYUN BT ANJİOGRAFİ TETKİKİ\\\\b0','\\\\b BOYUN KRANİAL BT ANJİOGRAFİ TETKİKİ\\\\b0 ','\\\\b PREKONTRAST KRANİAL BT İNCELEMESİ\\\\b0','\\\\b KRANİAL BOYUN  BT ANJİOGRAFİ TETKİKİ\\\\b0','\\\\f3','\\\\f2','\\\\b   SERVİKAL VERTEBRA BT ve 3 BOYUTLU BT TETKİKİ \\\\b0','\\\\lang1053\\\\f4 d\\\\tx360\\\\tx720\\\\tx1080\\\\tx1440\\\\tx1800\\\\tx2160\\\\tx2520\\\\tx2880\\\\tx3240\\\\tx3600\\\\tx3960\\\\tx4320\\\\tx4680\\\\tx5040\\\\tx5400\\\\tx5760\\\\tx6120\\\\tx6480\\\\tx6840\\\\tx7200\\\\tx7560\\\\tx7920\\\\tx8280\\\\tx8640\\\\tx9000\\\\tx9360\\\\tx9720\\\\tx10080\\\\tx10440\\\\tx10800\\\\tx11160\\\\tx11520']"
      ],
      "execution_count": null,
      "outputs": []
    },
    {
      "cell_type": "code",
      "metadata": {
        "id": "_H-DRq9R_0n4"
      },
      "source": [
        "radlex = ['RID11163',\n",
        " 'RID11296',\n",
        " 'RID11334',\n",
        " 'RID11423',\n",
        " 'RID13173',\n",
        " 'RID3321',\n",
        " 'RID35365',\n",
        " 'RID3663',\n",
        " 'RID36936',\n",
        " 'RID3827',\n",
        " 'RID3864',\n",
        " 'RID3874',\n",
        " 'RID3891',\n",
        " 'RID3899',\n",
        " 'RID39076',\n",
        " 'RID3936',\n",
        " 'RID4002',\n",
        " 'RID4088',\n",
        " 'RID4591',\n",
        " 'RID4650',\n",
        " 'RID4651',\n",
        " 'RID4652',\n",
        " 'RID4653',\n",
        " 'RID4654',\n",
        " 'RID4655',\n",
        " 'RID4700',\n",
        " 'RID4706',\n",
        " 'RID4708',\n",
        " 'RID4710',\n",
        " 'RID4800',\n",
        " 'RID4885',\n",
        " 'RID49953',\n",
        " 'RID5150',\n",
        " 'RID5178',\n",
        " 'RID5425',\n",
        " 'RID5631',\n",
        " 'RID6264',\n",
        " 'RID6527',\n",
        " 'RID7109',\n",
        " 'RID9470',\n",
        " 'RID9814']"
      ],
      "execution_count": null,
      "outputs": []
    },
    {
      "cell_type": "code",
      "metadata": {
        "id": "KcwpbpTw5kTW"
      },
      "source": [
        "df['Rapor(Sonuc)'] = df['Rapor(Sonuc)'].str.split('Saygılarımla').str[0]\n",
        "df['Rapor(Sonuc)'] = df['Rapor(Sonuc)'].str.replace('  d ','')\n",
        "df['Rapor(Sonuc)'] = df['Rapor(Sonuc)'].str.replace('--','')\n",
        "df['Rapor(Sonuc)'] = df['Rapor(Sonuc)'].str.replace('-','')\n",
        "df['Rapor(Sonuc)'] = df['Rapor(Sonuc)'].str.replace(':','')\n",
        "df['Rapor(Sonuc)'] = df['Rapor(Sonuc)'].str.replace('[','')\n",
        "df['Rapor(Sonuc)'] = df['Rapor(Sonuc)'].str.replace(']','')\n",
        "df['Rapor(Sonuc)'] = df['Rapor(Sonuc)'].str.replace('{','')\n",
        "df['Rapor(Sonuc)'] = df['Rapor(Sonuc)'].str.replace('}','')\n",
        "df['Rapor(Sonuc)'] = df['Rapor(Sonuc)'].str.replace('?','')\n",
        "\n",
        "\n"
      ],
      "execution_count": null,
      "outputs": []
    },
    {
      "cell_type": "code",
      "metadata": {
        "id": "maKEtwNa_ruL"
      },
      "source": [
        "df_list = df[\"Rapor(Sonuc)\"].tolist()"
      ],
      "execution_count": null,
      "outputs": []
    },
    {
      "cell_type": "code",
      "metadata": {
        "id": "W-D-f0mBAPaq"
      },
      "source": [
        "radlex=set(radlex)"
      ],
      "execution_count": null,
      "outputs": []
    },
    {
      "cell_type": "code",
      "metadata": {
        "id": "E7XzGrLRAB9M"
      },
      "source": [
        "import re\n",
        "for r in radlex:\n",
        "  for s in range(0,len(df_list)):\n",
        "    df_list[s] = str(df_list[s]).replace(r,'')\n",
        "    df_list[s] = df_list[s].replace('()','')\n",
        "    df_list[s] = df_list[s].replace('(,)','')\n",
        "    df_list[s] = df_list[s].replace(r,'')\n",
        "    \n",
        "\n",
        "    for l in kodlar:\n",
        "       df_list[s] = df_list[s].replace(l,'')"
      ],
      "execution_count": null,
      "outputs": []
    },
    {
      "cell_type": "code",
      "metadata": {
        "id": "peitjDf_Cood"
      },
      "source": [
        "df['Rapor(Sonuc)'] = df_list\n",
        "df['Rapor(Sonuc)'] = df['Rapor(Sonuc)'].str.replace('SERVİKAL VERTEBRA BT ve 3 BOYUTLU BT TETKİKİ','')\n",
        "df['Rapor(Sonuc)'] = df['Rapor(Sonuc)'].str.replace('SPİNAL BT ve 3 BOYUTLU BT İNCELEMESİ','')\n",
        "df['Rapor(Sonuc)'] = df['Rapor(Sonuc)'].str.replace('Spondilartroz servikal BT tetkiki','')\n",
        "df['Rapor(Sonuc)'] = df['Rapor(Sonuc)'].str.replace(' d ','')\n",
        "df['Rapor(Sonuc)'] = df['Rapor(Sonuc)'].str.replace(r'd\\\\qj\\\\b\\\\f1  \\\\b0',r'')\n",
        "df['Rapor(Sonuc)'] = df['Rapor(Sonuc)'].str.replace(r'd\\\\qj   \\\\b  \\\\b0',r'')\n",
        "df['Rapor(Sonuc)'] = df['Rapor(Sonuc)'].str.replace(r'\\\\b  \\\\b0',r'')\n",
        "df['Rapor(Sonuc)'] = df['Rapor(Sonuc)'].str.replace('SPİNAL BT ve 3 BOYUTLU BT TETKİKİ \\\\b0','')\n",
        "df['Rapor(Sonuc)'] = df['Rapor(Sonuc)'].str.replace('\\\\','')"
      ],
      "execution_count": null,
      "outputs": []
    },
    {
      "cell_type": "code",
      "metadata": {
        "id": "CCNDmXdS2y4t"
      },
      "source": [
        "mask = (df['Rapor(Sonuc)'].str.len() >= 100)"
      ],
      "execution_count": null,
      "outputs": []
    },
    {
      "cell_type": "code",
      "metadata": {
        "id": "tqxC6fez222f"
      },
      "source": [
        "df = df.loc[mask]"
      ],
      "execution_count": null,
      "outputs": []
    },
    {
      "cell_type": "code",
      "metadata": {
        "id": "iGnSNYUL25uA"
      },
      "source": [
        "df=df.drop_duplicates()"
      ],
      "execution_count": null,
      "outputs": []
    },
    {
      "cell_type": "code",
      "metadata": {
        "id": "rEvr6cSi4aj3"
      },
      "source": [
        "df = df.sample(frac = 1)"
      ],
      "execution_count": null,
      "outputs": []
    },
    {
      "cell_type": "code",
      "metadata": {
        "id": "rLdOwB-yhTlU"
      },
      "source": [
        "df.to_excel(\"v2_son(2).xlsx\")"
      ],
      "execution_count": null,
      "outputs": []
    },
    {
      "cell_type": "code",
      "metadata": {
        "id": "yZPcbBbwRxSY"
      },
      "source": [
        ""
      ],
      "execution_count": null,
      "outputs": []
    }
  ]
}