{
  "nbformat": 4,
  "nbformat_minor": 0,
  "metadata": {
    "colab": {
      "name": "cleaning radiology data.ipynb",
      "provenance": []
    },
    "kernelspec": {
      "name": "python3",
      "display_name": "Python 3"
    },
    "language_info": {
      "name": "python"
    }
  },
  "cells": [
    {
      "cell_type": "code",
      "metadata": {
        "colab": {
          "base_uri": "https://localhost:8080/"
        },
        "id": "Lk_eS8kSX4mA",
        "outputId": "e05390a0-89c5-452d-ecdb-f2ca7c2607b7"
      },
      "source": [
        "from google.colab import drive\n",
        "drive.mount('/content/drive')"
      ],
      "execution_count": null,
      "outputs": [
        {
          "output_type": "stream",
          "text": [
            "Mounted at /content/drive\n"
          ],
          "name": "stdout"
        }
      ]
    },
    {
      "cell_type": "code",
      "metadata": {
        "id": "qcZEB3kCYhTn"
      },
      "source": [
        "import pandas as pd\n",
        "from pandas import ExcelWriter\n",
        "from pandas import ExcelFile\n",
        "\n",
        "df = pd.read_excel('/content/drive/MyDrive/5001-10000 Merged- BKatuk_KYilmaz_ Ozbek 20190916.xlsx')"
      ],
      "execution_count": null,
      "outputs": []
    },
    {
      "cell_type": "code",
      "metadata": {
        "id": "-YfaH_niZBYy"
      },
      "source": [
        "df = pd.DataFrame(df, columns= ['Rapor(Sonuc)','Sınıf(Unique)'])"
      ],
      "execution_count": null,
      "outputs": []
    },
    {
      "cell_type": "code",
      "metadata": {
        "id": "L5qQKcRPZRMK"
      },
      "source": [
        "df=df.drop_duplicates()"
      ],
      "execution_count": null,
      "outputs": []
    },
    {
      "cell_type": "code",
      "metadata": {
        "colab": {
          "base_uri": "https://localhost:8080/",
          "height": 424
        },
        "id": "9rxeS-Bz1n-D",
        "outputId": "2febda0e-0366-4cd2-c45c-cd3f1b492c12"
      },
      "source": [
        "df"
      ],
      "execution_count": null,
      "outputs": [
        {
          "output_type": "execute_result",
          "data": {
            "text/html": [
              "<div>\n",
              "<style scoped>\n",
              "    .dataframe tbody tr th:only-of-type {\n",
              "        vertical-align: middle;\n",
              "    }\n",
              "\n",
              "    .dataframe tbody tr th {\n",
              "        vertical-align: top;\n",
              "    }\n",
              "\n",
              "    .dataframe thead th {\n",
              "        text-align: right;\n",
              "    }\n",
              "</style>\n",
              "<table border=\"1\" class=\"dataframe\">\n",
              "  <thead>\n",
              "    <tr style=\"text-align: right;\">\n",
              "      <th></th>\n",
              "      <th>Rapor(Sonuc)</th>\n",
              "      <th>Sınıf(Unique)</th>\n",
              "    </tr>\n",
              "  </thead>\n",
              "  <tbody>\n",
              "    <tr>\n",
              "      <th>0</th>\n",
              "      <td>Sonuç: [Tetkik değerlendirmesi yoğun artefisye...</td>\n",
              "      <td>SERI DISI</td>\n",
              "    </tr>\n",
              "    <tr>\n",
              "      <th>1</th>\n",
              "      <td>Sonuç: [Tetkik değerlendirmesi yoğun hareket A...</td>\n",
              "      <td>SERI DISI</td>\n",
              "    </tr>\n",
              "    <tr>\n",
              "      <th>2</th>\n",
              "      <td>Sonuç: [Travma nedeni ile tetkik edilen olguda...</td>\n",
              "      <td>YOK</td>\n",
              "    </tr>\n",
              "    <tr>\n",
              "      <th>3</th>\n",
              "      <td>Sonuç: [Verteks görüntülere dahil olmadığı içi...</td>\n",
              "      <td>YOK</td>\n",
              "    </tr>\n",
              "    <tr>\n",
              "      <th>4</th>\n",
              "      <td>Sonuç: [Yoğun ARTEFAKT nedeni ile değerlendirm...</td>\n",
              "      <td>SERI DISI</td>\n",
              "    </tr>\n",
              "    <tr>\n",
              "      <th>...</th>\n",
              "      <td>...</td>\n",
              "      <td>...</td>\n",
              "    </tr>\n",
              "    <tr>\n",
              "      <th>4995</th>\n",
              "      <td>Sonuç:[Sağ temporoparyetal kemikte kraniektomi...</td>\n",
              "      <td>SERI DISI</td>\n",
              "    </tr>\n",
              "    <tr>\n",
              "      <th>4996</th>\n",
              "      <td>SONUÇ:[Stabil postoperatif değişklikler mevcut...</td>\n",
              "      <td>SERI DISI</td>\n",
              "    </tr>\n",
              "    <tr>\n",
              "      <th>4997</th>\n",
              "      <td>Sonuç:[Suboptimal tetkikte gross hemoraji veya...</td>\n",
              "      <td>SERI DISI</td>\n",
              "    </tr>\n",
              "    <tr>\n",
              "      <th>4998</th>\n",
              "      <td>Sonuç:[Tetkik olgunun bir önceki tetkiki ile k...</td>\n",
              "      <td>SERI DISI</td>\n",
              "    </tr>\n",
              "    <tr>\n",
              "      <th>4999</th>\n",
              "      <td>Sonuç:[VP ŞANTlı olguda bilinç bulanıklığı ned...</td>\n",
              "      <td>SERI DISI</td>\n",
              "    </tr>\n",
              "  </tbody>\n",
              "</table>\n",
              "<p>3590 rows × 2 columns</p>\n",
              "</div>"
            ],
            "text/plain": [
              "                                           Rapor(Sonuc) Sınıf(Unique)\n",
              "0     Sonuç: [Tetkik değerlendirmesi yoğun artefisye...     SERI DISI\n",
              "1     Sonuç: [Tetkik değerlendirmesi yoğun hareket A...     SERI DISI\n",
              "2     Sonuç: [Travma nedeni ile tetkik edilen olguda...           YOK\n",
              "3     Sonuç: [Verteks görüntülere dahil olmadığı içi...           YOK\n",
              "4     Sonuç: [Yoğun ARTEFAKT nedeni ile değerlendirm...     SERI DISI\n",
              "...                                                 ...           ...\n",
              "4995  Sonuç:[Sağ temporoparyetal kemikte kraniektomi...     SERI DISI\n",
              "4996  SONUÇ:[Stabil postoperatif değişklikler mevcut...     SERI DISI\n",
              "4997  Sonuç:[Suboptimal tetkikte gross hemoraji veya...     SERI DISI\n",
              "4998  Sonuç:[Tetkik olgunun bir önceki tetkiki ile k...     SERI DISI\n",
              "4999  Sonuç:[VP ŞANTlı olguda bilinç bulanıklığı ned...     SERI DISI\n",
              "\n",
              "[3590 rows x 2 columns]"
            ]
          },
          "metadata": {
            "tags": []
          },
          "execution_count": 82
        }
      ]
    },
    {
      "cell_type": "code",
      "metadata": {
        "id": "IwSKTq1-iMWv"
      },
      "source": [
        "df[\"Rapor(Sonuc)\"] = df[\"Rapor(Sonuc)\"].astype(str)"
      ],
      "execution_count": null,
      "outputs": []
    },
    {
      "cell_type": "code",
      "metadata": {
        "colab": {
          "base_uri": "https://localhost:8080/"
        },
        "id": "g2ORQUR5iaiq",
        "outputId": "6d13daf8-f25b-472d-aeb0-fcbca9fd52b4"
      },
      "source": [
        "df[\"Rapor(Sonuc)\"]"
      ],
      "execution_count": null,
      "outputs": [
        {
          "output_type": "execute_result",
          "data": {
            "text/plain": [
              "0       Sonuç: [Tetkik değerlendirmesi yoğun artefisye...\n",
              "1       Sonuç: [Tetkik değerlendirmesi yoğun hareket A...\n",
              "2       Sonuç: [Travma nedeni ile tetkik edilen olguda...\n",
              "3       Sonuç: [Verteks görüntülere dahil olmadığı içi...\n",
              "4       Sonuç: [Yoğun ARTEFAKT nedeni ile değerlendirm...\n",
              "                              ...                        \n",
              "4995    Sonuç:[Sağ temporoparyetal kemikte kraniektomi...\n",
              "4996    SONUÇ:[Stabil postoperatif değişklikler mevcut...\n",
              "4997    Sonuç:[Suboptimal tetkikte gross hemoraji veya...\n",
              "4998    Sonuç:[Tetkik olgunun bir önceki tetkiki ile k...\n",
              "4999    Sonuç:[VP ŞANTlı olguda bilinç bulanıklığı ned...\n",
              "Name: Rapor(Sonuc), Length: 3590, dtype: object"
            ]
          },
          "metadata": {
            "tags": []
          },
          "execution_count": 7
        }
      ]
    },
    {
      "cell_type": "code",
      "metadata": {
        "id": "mR5nHsUYZV9U"
      },
      "source": [
        "df[\"Rapor(Sonuc)\"] = df[\"Rapor(Sonuc)\"].apply(lambda x: x.replace(x, x[x.find(\"[\"):x.find(\"]\")]))\n",
        "#df[\"Rapor(Sonuc)\"] = df[\"Rapor(Sonuc)\"].str[df[\"Rapor(Sonuc)\"].str.find(\"[\"):df[\"Rapor(Sonuc)\"].str.find(\"]\")]"
      ],
      "execution_count": null,
      "outputs": []
    },
    {
      "cell_type": "code",
      "metadata": {
        "colab": {
          "base_uri": "https://localhost:8080/"
        },
        "id": "4it-utnRZY3L",
        "outputId": "26534c18-1370-450c-9e66-adfe17fd9c2f"
      },
      "source": [
        "df[\"Rapor(Sonuc)\"]"
      ],
      "execution_count": null,
      "outputs": [
        {
          "output_type": "execute_result",
          "data": {
            "text/plain": [
              "0       [Tetkik değerlendirmesi yoğun artefisyel görün...\n",
              "1       [Tetkik değerlendirmesi yoğun hareket ARTEFAKT...\n",
              "2       [Travma nedeni ile tetkik edilen olguda travma...\n",
              "3       [Verteks görüntülere dahil olmadığı için değer...\n",
              "4       [Yoğun ARTEFAKT nedeni ile değerlendirme SUBOP...\n",
              "                              ...                        \n",
              "4995    [Sağ temporoparyetal kemikte kraniektomi defek...\n",
              "4996         [Stabil postoperatif değişklikler mevcuttur.\n",
              "4997    [Suboptimal tetkikte gross hemoraji veya yer k...\n",
              "4998    [Tetkik olgunun bir önceki tetkiki ile karşıla...\n",
              "4999    [VP ŞANTlı olguda bilinç bulanıklığı nedeni il...\n",
              "Name: Rapor(Sonuc), Length: 3590, dtype: object"
            ]
          },
          "metadata": {
            "tags": []
          },
          "execution_count": 9
        }
      ]
    },
    {
      "cell_type": "code",
      "metadata": {
        "id": "IhE5TLYLgsc7"
      },
      "source": [
        "radlex = ['RID11163',\n",
        " 'RID11296',\n",
        " 'RID11334',\n",
        " 'RID11423',\n",
        " 'RID13173',\n",
        " 'RID3321',\n",
        " 'RID35365',\n",
        " 'RID3663',\n",
        " 'RID36936',\n",
        " 'RID3827',\n",
        " 'RID3864',\n",
        " 'RID3874',\n",
        " 'RID3891',\n",
        " 'RID3899',\n",
        " 'RID39076',\n",
        " 'RID3936',\n",
        " 'RID4002',\n",
        " 'RID4088',\n",
        " 'RID4591',\n",
        " 'RID4650',\n",
        " 'RID4651',\n",
        " 'RID4652',\n",
        " 'RID4653',\n",
        " 'RID4654',\n",
        " 'RID4655',\n",
        " 'RID4700',\n",
        " 'RID4706',\n",
        " 'RID4708',\n",
        " 'RID4710',\n",
        " 'RID4800',\n",
        " 'RID4885',\n",
        " 'RID49953',\n",
        " 'RID5150',\n",
        " 'RID5178',\n",
        " 'RID5425',\n",
        " 'RID5631',\n",
        " 'RID6264',\n",
        " 'RID6527',\n",
        " 'RID7109',\n",
        " 'RID9470',\n",
        " 'RID9814']"
      ],
      "execution_count": null,
      "outputs": []
    },
    {
      "cell_type": "code",
      "metadata": {
        "id": "zf8ivaqyi0Mg"
      },
      "source": [
        "kodlar=['\\\\b KRANİAL BOYUN BT ANJİOGRAFİ TETKİKİ:\\\\b0','\\\\lang1055\\\\f1','\\\\lang1031\\\\f2','\\\\lang1055\\\\f2','\\\\lang1053\\\\f0'\n",
        ",'\\\\lang1053\\\\f1','d\\\\f0\\\\fs20','\\\\f2\\\\fs22','d\\\\lang1055\\\\f2\\\\fs22','\\\\lang2057\\\\f0\\\\fs18',' \\\\b KRANİAL BT ANJİOGRAFİ TETKİKİ\\\\b0'\n",
        ",'\\\\f3\\\\fs20','\\lang1055\\f3\\fs20','\\\\fs18','\\lang1053\\f3\\fs18','\\lang1031','d\\lang1055\\fs22',' \\\\f1\\\\fs22','\\lang1055','\\fs22','d\\qj\\lang1031','\\lang1055\\f0'\n",
        ",'\\b PRE-KONTRAST KRANİAL BT İNCELEMESİ\\b0','\\\\f3\\\\fs20','\\\\fs22','\\\\lang1053\\\\f2','\\\\lang1053\\\\f3','\\\\fs22','\\\\f0\\\\fs22','\\\\f1\\\\fs20','\\\\fs20','d\\\\qj \\\\b KRANİAL BT ANJİOGRAFİ TETKİKİ\\\\b0','\\\\b SERVİKAL VERTEBRA BT ve 3 BOYUTLU BT TETKİKİ\\\\b0'\n",
        ",'\\\\b KRANİAL  BOYUN BT ANJİOGRAFİ TETKİKİ\\\\b0','\\\\b KRANİAL BOYUN BT ANJİOGRAFİ TETKİKİ\\\\b0','\\\\b BOYUN KRANİAL BT ANJİOGRAFİ TETKİKİ\\\\b0 ','\\\\b PREKONTRAST KRANİAL BT İNCELEMESİ\\\\b0','\\\\b KRANİAL BOYUN  BT ANJİOGRAFİ TETKİKİ\\\\b0','\\\\f3','\\\\f2','\\\\b   SERVİKAL VERTEBRA BT ve 3 BOYUTLU BT TETKİKİ \\\\b0']"
      ],
      "execution_count": null,
      "outputs": []
    },
    {
      "cell_type": "code",
      "metadata": {
        "id": "AVzinKYzi3yw"
      },
      "source": [
        "\n",
        "df['Rapor(Sonuc)'] = df['Rapor(Sonuc)'].str.replace('--','')\n",
        "df['Rapor(Sonuc)'] = df['Rapor(Sonuc)'].str.replace('-','')\n",
        "df['Rapor(Sonuc)'] = df['Rapor(Sonuc)'].str.replace(':','')\n",
        "df['Rapor(Sonuc)'] = df['Rapor(Sonuc)'].str.replace('[','')\n",
        "df['Rapor(Sonuc)'] = df['Rapor(Sonuc)'].str.replace(']','')\n",
        "df['Rapor(Sonuc)'] = df['Rapor(Sonuc)'].str.replace('{','')\n",
        "df['Rapor(Sonuc)'] = df['Rapor(Sonuc)'].str.replace('}','')\n",
        "df['Rapor(Sonuc)'] = df['Rapor(Sonuc)'].str.replace('?','')\n"
      ],
      "execution_count": null,
      "outputs": []
    },
    {
      "cell_type": "code",
      "metadata": {
        "id": "JEvEOQM8i9rg"
      },
      "source": [
        "df_list = df[\"Rapor(Sonuc)\"].tolist()"
      ],
      "execution_count": null,
      "outputs": []
    },
    {
      "cell_type": "code",
      "metadata": {
        "id": "ayPKobbli_zQ"
      },
      "source": [
        "import re\n",
        "for r in radlex:\n",
        "  for s in range(0,len(df_list)):\n",
        "    df_list[s] = str(df_list[s]).replace(r,'')\n",
        "    df_list[s] = df_list[s].replace('()','')\n",
        "    df_list[s] = df_list[s].replace('(,)','')\n",
        "    df_list[s] = df_list[s].replace(r,'')\n",
        "    \n",
        "\n",
        "    for l in kodlar:\n",
        "       df_list[s] = df_list[s].replace(l,'')"
      ],
      "execution_count": null,
      "outputs": []
    },
    {
      "cell_type": "code",
      "metadata": {
        "id": "4D7qpIckjFm3"
      },
      "source": [
        "df['Rapor(Sonuc)'] = df_list\n",
        "df['Rapor(Sonuc)'] = df['Rapor(Sonuc)'].str.replace('SERVİKAL VERTEBRA BT ve 3 BOYUTLU BT TETKİKİ','')\n",
        "df['Rapor(Sonuc)'] = df['Rapor(Sonuc)'].str.replace('SPİNAL BT ve 3 BOYUTLU BT İNCELEMESİ','')\n",
        "df['Rapor(Sonuc)'] = df['Rapor(Sonuc)'].str.replace('Spondilartroz servikal BT tetkiki','')\n",
        "df['Rapor(Sonuc)'] = df['Rapor(Sonuc)'].str.replace(' d ','')\n",
        "df['Rapor(Sonuc)'] = df['Rapor(Sonuc)'].str.replace(r'd\\\\qj\\\\b\\\\f1  \\\\b0',r'')\n",
        "df['Rapor(Sonuc)'] = df['Rapor(Sonuc)'].str.replace(r'd\\\\qj   \\\\b  \\\\b0',r'')\n",
        "df['Rapor(Sonuc)'] = df['Rapor(Sonuc)'].str.replace(r'\\\\b  \\\\b0',r'')\n",
        "df['Rapor(Sonuc)'] = df['Rapor(Sonuc)'].str.replace('SPİNAL BT ve 3 BOYUTLU BT TETKİKİ \\\\b0','')\n",
        "df['Rapor(Sonuc)'] = df['Rapor(Sonuc)'].str.replace('\\\\','')"
      ],
      "execution_count": null,
      "outputs": []
    },
    {
      "cell_type": "code",
      "metadata": {
        "colab": {
          "base_uri": "https://localhost:8080/",
          "height": 424
        },
        "id": "8WqwQm2u1b9Z",
        "outputId": "9f32079e-b767-4a63-dfc0-f695deda0713"
      },
      "source": [
        "df"
      ],
      "execution_count": null,
      "outputs": [
        {
          "output_type": "execute_result",
          "data": {
            "text/html": [
              "<div>\n",
              "<style scoped>\n",
              "    .dataframe tbody tr th:only-of-type {\n",
              "        vertical-align: middle;\n",
              "    }\n",
              "\n",
              "    .dataframe tbody tr th {\n",
              "        vertical-align: top;\n",
              "    }\n",
              "\n",
              "    .dataframe thead th {\n",
              "        text-align: right;\n",
              "    }\n",
              "</style>\n",
              "<table border=\"1\" class=\"dataframe\">\n",
              "  <thead>\n",
              "    <tr style=\"text-align: right;\">\n",
              "      <th></th>\n",
              "      <th>Rapor(Sonuc)</th>\n",
              "      <th>Sınıf(Unique)</th>\n",
              "    </tr>\n",
              "  </thead>\n",
              "  <tbody>\n",
              "    <tr>\n",
              "      <th>0</th>\n",
              "      <td>Tetkik değerlendirmesi yoğun artefisyel görünü...</td>\n",
              "      <td>SERI DISI</td>\n",
              "    </tr>\n",
              "    <tr>\n",
              "      <th>1</th>\n",
              "      <td>Tetkik değerlendirmesi yoğun hareket ARTEFAKTı...</td>\n",
              "      <td>SERI DISI</td>\n",
              "    </tr>\n",
              "    <tr>\n",
              "      <th>2</th>\n",
              "      <td>Travma nedeni ile tetkik edilen olguda travmay...</td>\n",
              "      <td>YOK</td>\n",
              "    </tr>\n",
              "    <tr>\n",
              "      <th>3</th>\n",
              "      <td>Verteks görüntülere dahil olmadığı için değerl...</td>\n",
              "      <td>YOK</td>\n",
              "    </tr>\n",
              "    <tr>\n",
              "      <th>4</th>\n",
              "      <td>Yoğun ARTEFAKT nedeni ile değerlendirme SUBOPT...</td>\n",
              "      <td>SERI DISI</td>\n",
              "    </tr>\n",
              "    <tr>\n",
              "      <th>...</th>\n",
              "      <td>...</td>\n",
              "      <td>...</td>\n",
              "    </tr>\n",
              "    <tr>\n",
              "      <th>4995</th>\n",
              "      <td>Sağ temporoparyetal kemikte kraniektomi defekt...</td>\n",
              "      <td>SERI DISI</td>\n",
              "    </tr>\n",
              "    <tr>\n",
              "      <th>4996</th>\n",
              "      <td>Stabil postoperatif değişklikler mevcuttur.</td>\n",
              "      <td>SERI DISI</td>\n",
              "    </tr>\n",
              "    <tr>\n",
              "      <th>4997</th>\n",
              "      <td>Suboptimal tetkikte gross hemoraji veya yer ka...</td>\n",
              "      <td>SERI DISI</td>\n",
              "    </tr>\n",
              "    <tr>\n",
              "      <th>4998</th>\n",
              "      <td>Tetkik olgunun bir önceki tetkiki ile karşılaş...</td>\n",
              "      <td>SERI DISI</td>\n",
              "    </tr>\n",
              "    <tr>\n",
              "      <th>4999</th>\n",
              "      <td>VP ŞANTlı olguda bilinç bulanıklığı nedeni ile...</td>\n",
              "      <td>SERI DISI</td>\n",
              "    </tr>\n",
              "  </tbody>\n",
              "</table>\n",
              "<p>3590 rows × 2 columns</p>\n",
              "</div>"
            ],
            "text/plain": [
              "                                           Rapor(Sonuc) Sınıf(Unique)\n",
              "0     Tetkik değerlendirmesi yoğun artefisyel görünü...     SERI DISI\n",
              "1     Tetkik değerlendirmesi yoğun hareket ARTEFAKTı...     SERI DISI\n",
              "2     Travma nedeni ile tetkik edilen olguda travmay...           YOK\n",
              "3     Verteks görüntülere dahil olmadığı için değerl...           YOK\n",
              "4     Yoğun ARTEFAKT nedeni ile değerlendirme SUBOPT...     SERI DISI\n",
              "...                                                 ...           ...\n",
              "4995  Sağ temporoparyetal kemikte kraniektomi defekt...     SERI DISI\n",
              "4996        Stabil postoperatif değişklikler mevcuttur.     SERI DISI\n",
              "4997  Suboptimal tetkikte gross hemoraji veya yer ka...     SERI DISI\n",
              "4998  Tetkik olgunun bir önceki tetkiki ile karşılaş...     SERI DISI\n",
              "4999  VP ŞANTlı olguda bilinç bulanıklığı nedeni ile...     SERI DISI\n",
              "\n",
              "[3590 rows x 2 columns]"
            ]
          },
          "metadata": {
            "tags": []
          },
          "execution_count": 73
        }
      ]
    },
    {
      "cell_type": "code",
      "metadata": {
        "id": "8uRVk5c6lGEO"
      },
      "source": [
        "mask = (df['Rapor(Sonuc)'].str.len() >= 100)"
      ],
      "execution_count": null,
      "outputs": []
    },
    {
      "cell_type": "code",
      "metadata": {
        "id": "3Z-deGdTlKPK"
      },
      "source": [
        "df = df.loc[mask]"
      ],
      "execution_count": null,
      "outputs": []
    },
    {
      "cell_type": "code",
      "metadata": {
        "colab": {
          "base_uri": "https://localhost:8080/"
        },
        "id": "bTqAXVP2lOro",
        "outputId": "fe7ed606-d4f5-4763-8962-cd6d75556117"
      },
      "source": [
        "df.size"
      ],
      "execution_count": null,
      "outputs": [
        {
          "output_type": "execute_result",
          "data": {
            "text/plain": [
              "4394"
            ]
          },
          "metadata": {
            "tags": []
          },
          "execution_count": 16
        }
      ]
    },
    {
      "cell_type": "code",
      "metadata": {
        "id": "paZoBD-N2fAm"
      },
      "source": [
        "df=df.drop_duplicates()"
      ],
      "execution_count": null,
      "outputs": []
    },
    {
      "cell_type": "code",
      "metadata": {
        "id": "f9C4vuS-4iyh"
      },
      "source": [
        "df = df.sample(frac = 1)"
      ],
      "execution_count": null,
      "outputs": []
    },
    {
      "cell_type": "code",
      "metadata": {
        "id": "SmXJ01YijJ4F"
      },
      "source": [
        "df.to_excel(\"v3_son.xlsx\")"
      ],
      "execution_count": null,
      "outputs": []
    },
    {
      "cell_type": "code",
      "metadata": {
        "id": "LtGnwezajMyb"
      },
      "source": [
        ""
      ],
      "execution_count": null,
      "outputs": []
    }
  ]
}